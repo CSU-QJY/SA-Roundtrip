{
 "cells": [
  {
   "cell_type": "markdown",
   "id": "c009c417-e603-4b42-a932-55499b7fc659",
   "metadata": {},
   "source": [
    "# load packages  \n",
    "需要安装 cvxpy: https://www.cvxpy.org/install/index.html"
   ]
  },
  {
   "cell_type": "code",
   "execution_count": 1,
   "id": "65698ef2-89ea-42d9-9e1c-923672581255",
   "metadata": {
    "execution": {
     "iopub.execute_input": "2021-05-14T12:38:25.213268Z",
     "iopub.status.busy": "2021-05-14T12:38:25.213101Z",
     "iopub.status.idle": "2021-05-14T12:38:25.244979Z",
     "shell.execute_reply": "2021-05-14T12:38:25.244511Z",
     "shell.execute_reply.started": "2021-05-14T12:38:25.213248Z"
    },
    "tags": []
   },
   "outputs": [],
   "source": [
    "import math\n",
    "import numpy as np\n",
    "import matplotlib.pyplot as plt\n",
    "import skimage\n",
    "\n",
    "\n",
    "import cvxpy as cp\n",
    "import numpy as np"
   ]
  },
  {
   "cell_type": "markdown",
   "id": "de5d9d5f-014d-4c07-aa3c-eb9927de03ef",
   "metadata": {},
   "source": [
    "# 一些函数"
   ]
  },
  {
   "cell_type": "code",
   "execution_count": 2,
   "id": "2883b586-6e80-4abe-b2f6-719df08b3193",
   "metadata": {
    "execution": {
     "iopub.execute_input": "2021-05-14T12:38:25.246004Z",
     "iopub.status.busy": "2021-05-14T12:38:25.245844Z",
     "iopub.status.idle": "2021-05-14T12:38:25.322672Z",
     "shell.execute_reply": "2021-05-14T12:38:25.322200Z",
     "shell.execute_reply.started": "2021-05-14T12:38:25.245985Z"
    },
    "tags": []
   },
   "outputs": [],
   "source": [
    "def PSNR(ground_truth, predict):\n",
    "    \"\"\"\n",
    "    计算单个图片的PSNR\n",
    "    \"\"\"\n",
    "    ground_truth = (ground_truth - ground_truth.min()) / (ground_truth.max() - ground_truth.min())\n",
    "    predict = (predict - predict.min()) / (predict.max() - predict.min())\n",
    "    mse = np.mean((ground_truth - predict) ** 2)\n",
    "    if (mse == 0):  # MSE is zero means no noise is present in the signal .\n",
    "        # Therefore PSNR have no importance.\n",
    "        return 100\n",
    "    max_pixel = 1.0\n",
    "    psnr = 20 * np.log10(max_pixel / np.sqrt(mse))\n",
    "    return np.round(psnr,2)\n",
    "\n",
    "\n",
    "# radon metrix\n",
    "M_PI=math.pi\n",
    "def MAXX(x,y):\n",
    "    return x if x > y else y\n",
    "\n",
    "def radon_matrix(nt,nx,ny):\n",
    "    \"\"\"\n",
    "    nt      angle num\n",
    "    nx,ny = width, height\n",
    "    \"\"\"\n",
    "    xOrigin = int(MAXX(0, math.floor(nx / 2)))\n",
    "    yOrigin = int(MAXX(0, math.floor(ny / 2)))\n",
    "    Dr = 1\n",
    "    Dx = 1\n",
    "    rsize=math.floor(math.sqrt(float(nx*nx+ny*ny)*Dx)/(2*Dr))+1    # from zhang xiaoqun\n",
    "    # rsize = int(math.sqrt(2)*MAXX(nx,ny)/2)\n",
    "    nr=2*rsize+1\n",
    "    xTable = np.zeros((1,nx))\n",
    "    yTable = np.zeros((1,ny))\n",
    "    yTable[0,0] = (-yOrigin - 0.5) * Dx\n",
    "    xTable[0,0] = (-xOrigin - 0.5) * Dx\n",
    "    for i in range(1,ny):\n",
    "        yTable[0,i] = yTable[0,i-1] + Dx\n",
    "    for ii in range(1,nx):\n",
    "        xTable[0,ii]=xTable[0,ii-1] + Dx\n",
    "    Dtheta = M_PI / nt\n",
    "    percent_sparse = 2/ float(nr)\n",
    "    nzmax = int(math.ceil(float(nr * nt * nx * ny * percent_sparse)))\n",
    "    # nr=len(rho)\n",
    "    # nt=len(theta)\n",
    "    A= np.zeros((nr * nt,nx * ny))\n",
    "    weight = np.zeros((1,nzmax))\n",
    "    irs = np.zeros((1,nzmax))\n",
    "    jcs =np.zeros((1,A.shape[1]+1))\n",
    "    k=0\n",
    "    for m in range(ny):\n",
    "        for n in range(nx):\n",
    "            jcs[0,m*nx+n]=k\n",
    "            for j in range(nt):\n",
    "                angle=j*Dtheta\n",
    "                cosine=math.cos(angle)\n",
    "                sine=math.sin(angle)\n",
    "                xCos=yTable[0,m]*cosine+rsize*Dr\n",
    "                ySin=xTable[0,n]*sine\n",
    "                rldx=(xCos+ySin)/Dr\n",
    "                rLow=math.floor(rldx)\n",
    "                pixelLow=1-rldx+rLow\n",
    "                if 0 <= rLow < (nr - 1):\n",
    "                    irs[0,k]=nr*j+rLow #irs为元素储存的行号\n",
    "                    weight[0,k]=pixelLow\n",
    "                    k=k+1\n",
    "                    irs[0,k]=nr*j+rLow+1\n",
    "                    weight[0,k]=1-pixelLow\n",
    "                    k=k+1\n",
    "        jcs[0,nx * ny] = k\n",
    "    for col in range(nx*ny):\n",
    "        for row in range(2*nt):\n",
    "            A[int(irs[0,col*2*nt+row]),col]=weight[0,col*2*nt+row]\n",
    "    return np.flipud(A)"
   ]
  },
  {
   "cell_type": "code",
   "execution_count": 3,
   "id": "de48937a-eb71-48a2-b899-431b76c3727f",
   "metadata": {
    "execution": {
     "iopub.execute_input": "2021-05-14T12:38:25.323834Z",
     "iopub.status.busy": "2021-05-14T12:38:25.323676Z",
     "iopub.status.idle": "2021-05-14T12:38:25.608294Z",
     "shell.execute_reply": "2021-05-14T12:38:25.607680Z",
     "shell.execute_reply.started": "2021-05-14T12:38:25.323815Z"
    },
    "tags": []
   },
   "outputs": [
    {
     "ename": "SyntaxError",
     "evalue": "invalid syntax (<ipython-input-3-4e079489e19d>, line 1)",
     "output_type": "error",
     "traceback": [
      "\u001B[1;36m  File \u001B[1;32m\"<ipython-input-3-4e079489e19d>\"\u001B[1;36m, line \u001B[1;32m1\u001B[0m\n\u001B[1;33m    ls mnist/\u001B[0m\n\u001B[1;37m           ^\u001B[0m\n\u001B[1;31mSyntaxError\u001B[0m\u001B[1;31m:\u001B[0m invalid syntax\n"
     ]
    }
   ],
   "source": [
    "ls mnist/"
   ]
  },
  {
   "cell_type": "markdown",
   "id": "9d7e04df-53cd-4a7f-af93-ffb9782f4536",
   "metadata": {},
   "source": [
    "# 生成测试数据-图像和sinogram"
   ]
  },
  {
   "cell_type": "code",
   "execution_count": null,
   "id": "f0e11228-4448-44cb-8f73-57734010c2f9",
   "metadata": {
    "execution": {
     "iopub.execute_input": "2021-05-14T12:38:25.609734Z",
     "iopub.status.busy": "2021-05-14T12:38:25.609555Z",
     "iopub.status.idle": "2021-05-14T12:38:25.861589Z",
     "shell.execute_reply": "2021-05-14T12:38:25.861153Z",
     "shell.execute_reply.started": "2021-05-14T12:38:25.609712Z"
    },
    "tags": []
   },
   "outputs": [],
   "source": [
    "import cv2,os\n",
    "height, width = 32, 32\n",
    "lenth = height * width\n",
    "angleNum = 30\n",
    "\n",
    "i = 6\n",
    "image_name = str(i) + '.jpg'\n",
    "z_true = cv2.imread(os.path.join(\"mnist\",image_name), cv2.IMREAD_GRAYSCALE) /255\n",
    "# z_true = np.random.randn(128,1).reshape(1,-1)\n",
    "# x = GANmoduel(z_true)\n",
    "image = cv2.resize(z_true, (height, width))\n",
    "\n",
    "height,width = image.shape\n",
    "plt.imshow(image, cmap=plt.cm.Greys_r)\n",
    "plt.colorbar()\n",
    "plt.title(f\"{height,width}\")"
   ]
  },
  {
   "cell_type": "code",
   "execution_count": null,
   "id": "1bb26d97-0415-436e-a3ba-fe332b64c209",
   "metadata": {
    "execution": {
     "iopub.execute_input": "2021-05-14T12:38:25.862476Z",
     "iopub.status.busy": "2021-05-14T12:38:25.862321Z",
     "iopub.status.idle": "2021-05-14T12:38:26.243916Z",
     "shell.execute_reply": "2021-05-14T12:38:26.243457Z",
     "shell.execute_reply.started": "2021-05-14T12:38:25.862458Z"
    },
    "tags": []
   },
   "outputs": [],
   "source": [
    "#----------------------\n",
    "# angleNum\n",
    "# signal_noise_ratio\n",
    "#-----------------\n",
    "signal_noise_ratio = 0.1\n",
    "\n",
    "A = radon_matrix(angleNum,width,height)\n",
    "y_clear = A@image.flatten(order='F')\n",
    "y_clear_2d = y_clear.reshape(-1,angleNum,order='F')\n",
    "\n",
    "# add noise\n",
    "noise_std = y_clear.max()*signal_noise_ratio\n",
    "y_1d = y_clear+ noise_std*np.random.randn(len(y_clear))\n",
    "y_1d = np.clip(y_1d,0,100)\n",
    "y = y_1d.reshape(-1,angleNum,order='F')\n",
    "\n",
    "fig,ax = plt.subplots(1,2)\n",
    "ax[0].imshow(y_clear_2d)\n",
    "ax[0].set_title('clear data')\n",
    "\n",
    "ax[1].imshow(y)\n",
    "ax[1].set_title('noisy data')"
   ]
  },
  {
   "cell_type": "markdown",
   "id": "76f44250-dd7f-43d8-8693-8076f6392d7d",
   "metadata": {},
   "source": [
    "# 优化  \n",
    "\n",
    "## 目标函数\n",
    "\n",
    "$$\n",
    "\\begin{align}\n",
    "x^* & = \\arg \\min \\frac{1}{2*noise\\_std^2} \\quad ||Ax-b||_2^2 + \\lambda*||x||_{TV}  \\\\\n",
    "s.t. \\quad & 0 \\leq x \\leq 1\n",
    "\\end{align}\n",
    "$$"
   ]
  },
  {
   "cell_type": "code",
   "execution_count": null,
   "id": "1ae9de54-c2ec-4eb9-b537-863fd3fc6bbf",
   "metadata": {
    "execution": {
     "iopub.execute_input": "2021-05-14T12:38:26.244838Z",
     "iopub.status.busy": "2021-05-14T12:38:26.244674Z",
     "iopub.status.idle": "2021-05-14T12:38:26.279967Z",
     "shell.execute_reply": "2021-05-14T12:38:26.279500Z",
     "shell.execute_reply.started": "2021-05-14T12:38:26.244818Z"
    },
    "tags": []
   },
   "outputs": [],
   "source": [
    "import time\n",
    "# Problem data.\n",
    "n,m = A.shape\n",
    "A = A\n",
    "b = y_1d\n",
    "gamma = cp.Parameter(nonneg=True)\n",
    "\n",
    "# Construct the problem.\n",
    "x = cp.Variable(m)\n",
    "f = cp.sum_squares(A@x - b)/(2*noise_std) + cp.multiply(gamma,cp.tv(x))\n",
    "\n",
    "\n",
    "constraints = [0.0<=x,x<=1.0]         \n",
    "objective = cp.Minimize(f)\n",
    "p = cp.Problem(objective,constraints)\n",
    "\n",
    "# Assign a value to gamma and find the optimal x.\n",
    "def get_x(gamma_value):\n",
    "    start = time.time()\n",
    "\n",
    "    gamma.value = gamma_value\n",
    "    result = p.solve(solver=cp.SCS)\n",
    "    \n",
    "    end = time.time()\n",
    "    print(end - start)\n",
    "    return x.value"
   ]
  },
  {
   "cell_type": "markdown",
   "id": "a6d400d9-32d7-4591-8fee-129b916a65dc",
   "metadata": {},
   "source": [
    "## 并行优化"
   ]
  },
  {
   "cell_type": "code",
   "execution_count": null,
   "id": "550569ac-4a03-42d7-94b2-f0d7f2ea3f0b",
   "metadata": {
    "execution": {
     "iopub.execute_input": "2021-05-14T12:38:26.280837Z",
     "iopub.status.busy": "2021-05-14T12:38:26.280675Z",
     "iopub.status.idle": "2021-05-14T12:38:58.356759Z",
     "shell.execute_reply": "2021-05-14T12:38:58.356044Z",
     "shell.execute_reply.started": "2021-05-14T12:38:26.280817Z"
    },
    "tags": []
   },
   "outputs": [],
   "source": [
    "gammas = np.linspace(1e-3,10,12).round(3).tolist()\n",
    "print(gammas)\n",
    "\n",
    "# Parallel computation.\n",
    "from multiprocessing import Pool\n",
    "pool = Pool(processes = 6)\n",
    "par_x = pool.map(get_x, gammas)  # 已检查： x.value与gammas的顺序对应"
   ]
  },
  {
   "cell_type": "markdown",
   "id": "7d96eb42-0400-461a-8f51-d9f9c9b833b8",
   "metadata": {},
   "source": [
    "# 展示结果"
   ]
  },
  {
   "cell_type": "code",
   "execution_count": null,
   "id": "af8d808f-e472-4e33-ac4e-70fa182508b4",
   "metadata": {
    "execution": {
     "iopub.execute_input": "2021-05-14T12:38:58.359033Z",
     "iopub.status.busy": "2021-05-14T12:38:58.358831Z",
     "iopub.status.idle": "2021-05-14T12:38:58.817688Z",
     "shell.execute_reply": "2021-05-14T12:38:58.817092Z",
     "shell.execute_reply.started": "2021-05-14T12:38:58.359010Z"
    },
    "tags": []
   },
   "outputs": [],
   "source": [
    "rec_imgs = [img.reshape(height,width,order='F') for img in par_x]\n",
    "psnrs= [PSNR(rec_img,image) for rec_img in rec_imgs]\n",
    "\n",
    "print(np.array(gammas)[np.array(psnrs).argmax()],np.array(psnrs).max())\n",
    "plt.figure(figsize=(20,5))\n",
    "plt.plot(gammas,psnrs,'ro-')\n",
    "plt.xlabel('lambda')\n",
    "plt.ylabel('PSNR')\n",
    "plt.grid()"
   ]
  },
  {
   "cell_type": "code",
   "execution_count": null,
   "id": "94eacb0f-7fd4-408e-8952-b02e33a938ab",
   "metadata": {
    "execution": {
     "iopub.execute_input": "2021-05-14T12:38:58.819272Z",
     "iopub.status.busy": "2021-05-14T12:38:58.819087Z",
     "iopub.status.idle": "2021-05-14T12:38:59.883004Z",
     "shell.execute_reply": "2021-05-14T12:38:59.881677Z",
     "shell.execute_reply.started": "2021-05-14T12:38:58.819251Z"
    },
    "tags": []
   },
   "outputs": [],
   "source": [
    "n_col = 5\n",
    "n_row = int(len(gammas)/n_col)\n",
    "_, axs = plt.subplots(n_row, n_col, figsize=(n_col*3, n_row*4))\n",
    "axs = axs.flatten()\n",
    "for img, ax, lambd,psnr in zip(rec_imgs, axs, gammas,psnrs):\n",
    "    ax.imshow(img,cmap=plt.cm.Greys_r)\n",
    "    ax.set_title(f\"lambda={lambd} \\nPSNR={psnr}\")"
   ]
  },
  {
   "cell_type": "code",
   "execution_count": null,
   "id": "4d46fd64-4643-48f5-bd3b-bd74d0fdd4e1",
   "metadata": {},
   "outputs": [],
   "source": []
  }
 ],
 "metadata": {
  "kernelspec": {
   "name": "pycharm-7b297bcc",
   "language": "python",
   "display_name": "PyCharm (test)"
  },
  "language_info": {
   "codemirror_mode": {
    "name": "ipython",
    "version": 3
   },
   "file_extension": ".py",
   "mimetype": "text/x-python",
   "name": "python",
   "nbconvert_exporter": "python",
   "pygments_lexer": "ipython3",
   "version": "3.6.13"
  }
 },
 "nbformat": 4,
 "nbformat_minor": 5
}